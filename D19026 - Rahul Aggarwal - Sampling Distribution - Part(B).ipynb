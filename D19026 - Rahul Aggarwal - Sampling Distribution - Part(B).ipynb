{
 "cells": [
  {
   "cell_type": "markdown",
   "metadata": {},
   "source": [
    "### D19026\n",
    "### Rahul Aggarwal"
   ]
  },
  {
   "cell_type": "markdown",
   "metadata": {},
   "source": [
    "## Sampling Distribution - Part(B)"
   ]
  },
  {
   "cell_type": "markdown",
   "metadata": {},
   "source": [
    "**Introduction** - Confidence level is the probability that the value a specified range of values will able to capture the parameter with the confidence. For example - A 95% confidence level implies that 95% of time the confidence intervals would able to capture the true population parameter.\n",
    "\n",
    "**Objective** - To Verify with practical example the confidence Interval defination hold good using Montly Income variable of attrition data"
   ]
  },
  {
   "cell_type": "code",
   "execution_count": 2,
   "metadata": {},
   "outputs": [],
   "source": [
    "#importing required packages\n",
    "import numpy as np\n",
    "import pandas as pd\n",
    "import matplotlib.pyplot as plt\n",
    "import seaborn as sns"
   ]
  },
  {
   "cell_type": "code",
   "execution_count": 3,
   "metadata": {},
   "outputs": [],
   "source": [
    "attrition=pd.read_csv(\"attrition.csv\")"
   ]
  },
  {
   "cell_type": "code",
   "execution_count": 4,
   "metadata": {},
   "outputs": [
    {
     "data": {
      "text/html": [
       "<div>\n",
       "<style scoped>\n",
       "    .dataframe tbody tr th:only-of-type {\n",
       "        vertical-align: middle;\n",
       "    }\n",
       "\n",
       "    .dataframe tbody tr th {\n",
       "        vertical-align: top;\n",
       "    }\n",
       "\n",
       "    .dataframe thead th {\n",
       "        text-align: right;\n",
       "    }\n",
       "</style>\n",
       "<table border=\"1\" class=\"dataframe\">\n",
       "  <thead>\n",
       "    <tr style=\"text-align: right;\">\n",
       "      <th></th>\n",
       "      <th>Age</th>\n",
       "      <th>Attrition</th>\n",
       "      <th>BusinessTravel</th>\n",
       "      <th>Department</th>\n",
       "      <th>EducationField</th>\n",
       "      <th>EnvironmentSatisfaction</th>\n",
       "      <th>Gender</th>\n",
       "      <th>JobInvolvement</th>\n",
       "      <th>JobLevel</th>\n",
       "      <th>JobSatisfaction</th>\n",
       "      <th>MaritalStatus</th>\n",
       "      <th>MonthlyIncome</th>\n",
       "      <th>OverTime</th>\n",
       "      <th>TotalWorkingYears</th>\n",
       "      <th>WorkLifeBalance</th>\n",
       "      <th>YearsAtCompany</th>\n",
       "      <th>YearsInCurrentRole</th>\n",
       "      <th>YearsSinceLastPromotion</th>\n",
       "      <th>YearsWithCurrManager</th>\n",
       "    </tr>\n",
       "  </thead>\n",
       "  <tbody>\n",
       "    <tr>\n",
       "      <th>0</th>\n",
       "      <td>41</td>\n",
       "      <td>1</td>\n",
       "      <td>Travel_Rarely</td>\n",
       "      <td>Sales</td>\n",
       "      <td>Life Sciences</td>\n",
       "      <td>2</td>\n",
       "      <td>Female</td>\n",
       "      <td>3</td>\n",
       "      <td>2</td>\n",
       "      <td>4</td>\n",
       "      <td>Single</td>\n",
       "      <td>5993</td>\n",
       "      <td>Yes</td>\n",
       "      <td>8</td>\n",
       "      <td>1</td>\n",
       "      <td>6</td>\n",
       "      <td>4</td>\n",
       "      <td>0</td>\n",
       "      <td>5</td>\n",
       "    </tr>\n",
       "    <tr>\n",
       "      <th>1</th>\n",
       "      <td>49</td>\n",
       "      <td>0</td>\n",
       "      <td>Travel_Frequently</td>\n",
       "      <td>Research &amp; Development</td>\n",
       "      <td>Life Sciences</td>\n",
       "      <td>3</td>\n",
       "      <td>Male</td>\n",
       "      <td>2</td>\n",
       "      <td>2</td>\n",
       "      <td>2</td>\n",
       "      <td>Married</td>\n",
       "      <td>5130</td>\n",
       "      <td>No</td>\n",
       "      <td>10</td>\n",
       "      <td>3</td>\n",
       "      <td>10</td>\n",
       "      <td>7</td>\n",
       "      <td>1</td>\n",
       "      <td>7</td>\n",
       "    </tr>\n",
       "    <tr>\n",
       "      <th>2</th>\n",
       "      <td>37</td>\n",
       "      <td>1</td>\n",
       "      <td>Travel_Rarely</td>\n",
       "      <td>Research &amp; Development</td>\n",
       "      <td>Other</td>\n",
       "      <td>4</td>\n",
       "      <td>Male</td>\n",
       "      <td>2</td>\n",
       "      <td>1</td>\n",
       "      <td>3</td>\n",
       "      <td>Single</td>\n",
       "      <td>2090</td>\n",
       "      <td>Yes</td>\n",
       "      <td>7</td>\n",
       "      <td>3</td>\n",
       "      <td>0</td>\n",
       "      <td>0</td>\n",
       "      <td>0</td>\n",
       "      <td>0</td>\n",
       "    </tr>\n",
       "    <tr>\n",
       "      <th>3</th>\n",
       "      <td>33</td>\n",
       "      <td>0</td>\n",
       "      <td>Travel_Frequently</td>\n",
       "      <td>Research &amp; Development</td>\n",
       "      <td>Life Sciences</td>\n",
       "      <td>4</td>\n",
       "      <td>Female</td>\n",
       "      <td>3</td>\n",
       "      <td>1</td>\n",
       "      <td>3</td>\n",
       "      <td>Married</td>\n",
       "      <td>2909</td>\n",
       "      <td>Yes</td>\n",
       "      <td>8</td>\n",
       "      <td>3</td>\n",
       "      <td>8</td>\n",
       "      <td>7</td>\n",
       "      <td>3</td>\n",
       "      <td>0</td>\n",
       "    </tr>\n",
       "    <tr>\n",
       "      <th>4</th>\n",
       "      <td>27</td>\n",
       "      <td>0</td>\n",
       "      <td>Travel_Rarely</td>\n",
       "      <td>Research &amp; Development</td>\n",
       "      <td>Medical</td>\n",
       "      <td>1</td>\n",
       "      <td>Male</td>\n",
       "      <td>3</td>\n",
       "      <td>1</td>\n",
       "      <td>2</td>\n",
       "      <td>Married</td>\n",
       "      <td>3468</td>\n",
       "      <td>No</td>\n",
       "      <td>6</td>\n",
       "      <td>3</td>\n",
       "      <td>2</td>\n",
       "      <td>2</td>\n",
       "      <td>2</td>\n",
       "      <td>2</td>\n",
       "    </tr>\n",
       "  </tbody>\n",
       "</table>\n",
       "</div>"
      ],
      "text/plain": [
       "   Age  Attrition     BusinessTravel              Department EducationField  \\\n",
       "0   41          1      Travel_Rarely                   Sales  Life Sciences   \n",
       "1   49          0  Travel_Frequently  Research & Development  Life Sciences   \n",
       "2   37          1      Travel_Rarely  Research & Development          Other   \n",
       "3   33          0  Travel_Frequently  Research & Development  Life Sciences   \n",
       "4   27          0      Travel_Rarely  Research & Development        Medical   \n",
       "\n",
       "   EnvironmentSatisfaction  Gender  JobInvolvement  JobLevel  JobSatisfaction  \\\n",
       "0                        2  Female               3         2                4   \n",
       "1                        3    Male               2         2                2   \n",
       "2                        4    Male               2         1                3   \n",
       "3                        4  Female               3         1                3   \n",
       "4                        1    Male               3         1                2   \n",
       "\n",
       "  MaritalStatus  MonthlyIncome OverTime  TotalWorkingYears  WorkLifeBalance  \\\n",
       "0        Single           5993      Yes                  8                1   \n",
       "1       Married           5130       No                 10                3   \n",
       "2        Single           2090      Yes                  7                3   \n",
       "3       Married           2909      Yes                  8                3   \n",
       "4       Married           3468       No                  6                3   \n",
       "\n",
       "   YearsAtCompany  YearsInCurrentRole  YearsSinceLastPromotion  \\\n",
       "0               6                   4                        0   \n",
       "1              10                   7                        1   \n",
       "2               0                   0                        0   \n",
       "3               8                   7                        3   \n",
       "4               2                   2                        2   \n",
       "\n",
       "   YearsWithCurrManager  \n",
       "0                     5  \n",
       "1                     7  \n",
       "2                     0  \n",
       "3                     0  \n",
       "4                     2  "
      ]
     },
     "execution_count": 4,
     "metadata": {},
     "output_type": "execute_result"
    }
   ],
   "source": [
    "attrition.head()"
   ]
  },
  {
   "cell_type": "code",
   "execution_count": 29,
   "metadata": {
    "scrolled": true
   },
   "outputs": [
    {
     "name": "stdout",
     "output_type": "stream",
     "text": [
      "6502.93\n"
     ]
    }
   ],
   "source": [
    "#selecting our variable of interest monthly income in population variable\n",
    "population=attrition[\"MonthlyIncome\"]\n",
    "mean_population=round(np.mean(population),2)\n",
    "print(mean_population)"
   ]
  },
  {
   "cell_type": "markdown",
   "metadata": {},
   "source": [
    "#### Ques.1\n",
    "a) Select a sample of size 200 from the population and Calculate 95% Confidence Interval estimate of the population mean.<br>\n",
    "b)Repeat Above step for 1000 times and check how mnay of those confidence interval captures the true population mean."
   ]
  },
  {
   "cell_type": "code",
   "execution_count": 31,
   "metadata": {},
   "outputs": [
    {
     "name": "stdout",
     "output_type": "stream",
     "text": [
      "Sample Mean 6105.89\n",
      "Standard Error 332.79\n",
      "95% CI [5453.62, 6758.16]\n",
      "Range of CI 1304.54\n"
     ]
    }
   ],
   "source": [
    "sample1=np.random.choice(population,200)        # Selecting 200 random variable from population\n",
    "sample1_mean=round(np.mean(sample1),2)\n",
    "sample1_se=round(np.std(population)/np.sqrt(200),2)    #Calculating Standard Error for size 200.\n",
    "ci_95=[round(-1.96*sample1_se+sample1_mean,2),round(1.96*sample1_se+sample1_mean,2)]     #Calcuating 95% Confidence Interval\n",
    "print(\"Sample Mean\", sample1_mean)\n",
    "print(\"Standard Error\",sample1_se)\n",
    "print(\"95% CI\",ci_95)\n",
    "print(\"Range of CI\",round(ci_95[1]-ci_95[0],2))"
   ]
  },
  {
   "cell_type": "code",
   "execution_count": 49,
   "metadata": {},
   "outputs": [
    {
     "name": "stdout",
     "output_type": "stream",
     "text": [
      "Able to Capture True Population Mean no. of times:  956\n",
      "Not Able to Capture True Population Mean no. of times:  44\n"
     ]
    }
   ],
   "source": [
    "ci_list=[]\n",
    "all_mean=[]\n",
    "ci_std=[]\n",
    "sample1_se=np.std(population)/np.sqrt(200)  #Calculating Standard Error for size 200\n",
    "\n",
    "for i in range (0,1000):                       # Running Loop for 1000 samples\n",
    "    sample1=np.random.choice(population,200)   # Selecting 200 random variable from population\n",
    "    sample1_mean=np.mean(sample1)              #Calculating sample mean and appending in all_mean list\n",
    "    all_mean.append(sample1_mean)     \n",
    "    \n",
    "#Calculating 95% C.I. and appenidng in ci_list.\n",
    "    ci_95=[round(-1.96*sample1_se+sample1_mean,2),round(1.96*sample1_se+sample1_mean,2)] \n",
    "    ci_list.append(ci_95)  \n",
    "    \n",
    "    \n",
    "#Checking how many times interval range able to capture the true population mean\n",
    "count_yes=0\n",
    "count_no=0\n",
    "for i in range(0,len(ci_list)):\n",
    "    if(ci_list[i][0] < mean_population and ci_list[i][1]>mean_population):#Checking if interval captured population mean\n",
    "        count_yes+=1\n",
    "    else:\n",
    "        count_no+=1\n",
    "print(\"Able to Capture True Population Mean no. of times: \",count_yes)\n",
    "print(\"Not Able to Capture True Population Mean no. of times: \",count_no)"
   ]
  },
  {
   "cell_type": "markdown",
   "metadata": {},
   "source": [
    "**Observation** -So, We can see clearly from above experiment that by using 95% confidence interval it is able to capture mean around 95% out of 1000 samples."
   ]
  },
  {
   "cell_type": "markdown",
   "metadata": {},
   "source": [
    "#### Ques. 2\n",
    "Wide Vs Narrow CI:\n",
    "Collect a sample size of 200 from population and Calculate:<br>\n",
    "a) 90% CI\n",
    "b) 99% CI estimates of population mean ,which one is wider?<br>\n",
    "Why do you think one to be wider than other?"
   ]
  },
  {
   "cell_type": "code",
   "execution_count": 50,
   "metadata": {},
   "outputs": [
    {
     "name": "stdout",
     "output_type": "stream",
     "text": [
      "90% CI is  [5607.04, 6698.6]\n",
      "Range 1091.56\n",
      "99% CI is  [5533.62, 7250.82]\n",
      "Range 1717.2\n"
     ]
    }
   ],
   "source": [
    "sample1=np.random.choice(population,200)              #Selecting 200 random variable form population\n",
    "sample1_mean=round(np.mean(sample1),2)                #Calculating sample mean\n",
    "sample1_se=round(np.std(population)/np.sqrt(200),2)   #Calculating standard error for size 200\n",
    "\n",
    "#a) For 90% CI\n",
    "ci_90=[round(-1.64*sample1_se+sample1_mean,2),round(1.64*sample1_se+sample1_mean,2)]      #Calculating 90% CI\n",
    "print(\"90% CI is \",ci_90)\n",
    "print(\"Range\",round(ci_90[1]-ci_90[0],2))\n",
    "\n",
    "#b) For 99% CI\n",
    "ci_99=[round(-2.58*sample2_se+sample2_mean,2),round(2.58*sample2_se+sample2_mean,2)]      #Calculating 99% CI\n",
    "print(\"99% CI is \",ci_99)\n",
    "print(\"Range\",round(ci_99[1]-ci_99[0],2))"
   ]
  },
  {
   "cell_type": "markdown",
   "metadata": {},
   "source": [
    "**Observation** - As we can see above Range of 99% CI is wider than 90% CI. <br>\n",
    "99% CI should be wider because in this case we want that our interval should bale to capture the populatin mean 99 times out of 100."
   ]
  },
  {
   "cell_type": "markdown",
   "metadata": {},
   "source": [
    "#### Ques. 3\n",
    "Collect 2 Samples from the population.\n",
    "S1 of size 200 and S2 of size 400. Using both the samples calculate <br>\n",
    "a) 90% CI Estimate of mean<br>\n",
    "Which one should be narrower and theoritcally which one you expect to be narrower and Why?"
   ]
  },
  {
   "cell_type": "code",
   "execution_count": 52,
   "metadata": {},
   "outputs": [
    {
     "name": "stdout",
     "output_type": "stream",
     "text": [
      "90% CI of sample size 200 is  [6216.12, 7307.68]\n",
      "Range 1091.56\n",
      "90% CI of sample size 400 is  [6307.86, 7079.7]\n",
      "Range 771.84\n"
     ]
    }
   ],
   "source": [
    "s1=np.random.choice(population,200)              #Selecting 200 random variable form population\n",
    "s1_mean=round(np.mean(s1),2)                     #Calculating sample mean\n",
    "s1_se=round(np.std(population)/np.sqrt(200),2)   #Calculating standard error for size 200\n",
    "\n",
    "#a) For s1 of size 200\n",
    "s1_ci_90=[round(-1.64*s1_se+s1_mean,2),round(1.64*s1_se+s1_mean,2)]      #Calculating 90% CI\n",
    "print(\"90% CI of sample size 200 is \",s1_ci_90)\n",
    "print(\"Range\",round(s1_ci_90[1]-s1_ci_90[0],2))\n",
    "\n",
    "\n",
    "s2=np.random.choice(population,400)              #Selecting 400 random variable form population\n",
    "s2_mean=round(np.mean(s2),2)                     #Calculating sample mean\n",
    "s2_se=round(np.std(population)/np.sqrt(400),2)   #Calculating standard error for size 400\n",
    "\n",
    "#a) For s2 of size 400\n",
    "s2_ci_90=[round(-1.64*s2_se+s2_mean,2),round(1.64*s2_se+s2_mean,2)]      #Calculating 90% CI\n",
    "print(\"90% CI of sample size 400 is \",s2_ci_90)\n",
    "print(\"Range\",round(s2_ci_90[1]-s2_ci_90[0],2))"
   ]
  },
  {
   "cell_type": "markdown",
   "metadata": {},
   "source": [
    "**Observation** - Greater the sample size, narrower the Confidence Interval, i.e more accurate determination of interval to capture the population mean from the sample means.<br>\n",
    "**Theoritically** - The standard error for a population percentage has the square root of  the sample size in the denominator.<br>\n",
    "S.E = Standard Deviation of Sample/ sqrt (size of sample)\n",
    "<br>\n",
    "So, increasing the sample size by a factor of n is equivalent to multiplying the standard error by 1/sqrt(n).  Hence, the interval will be decreased by a factor of sqrt(n).<br>\n"
   ]
  },
  {
   "cell_type": "markdown",
   "metadata": {},
   "source": [
    "**Conclusion** -<br>\n",
    "1. When we say 95% confidence interval that means we will like to create to interval a,b which will have the center X' such that this interval will be able to capture the mean population with probability 0.95<br>\n",
    "2. Greater the sample size, narrower the Confidence Interval, i.e more accurate determination of interval to capture the population mean from the sample means."
   ]
  }
 ],
 "metadata": {
  "kernelspec": {
   "display_name": "Python 3",
   "language": "python",
   "name": "python3"
  },
  "language_info": {
   "codemirror_mode": {
    "name": "ipython",
    "version": 3
   },
   "file_extension": ".py",
   "mimetype": "text/x-python",
   "name": "python",
   "nbconvert_exporter": "python",
   "pygments_lexer": "ipython3",
   "version": "3.7.3"
  }
 },
 "nbformat": 4,
 "nbformat_minor": 2
}
